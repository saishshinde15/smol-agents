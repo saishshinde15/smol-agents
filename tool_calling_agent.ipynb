{
  "nbformat": 4,
  "nbformat_minor": 0,
  "metadata": {
    "colab": {
      "provenance": [],
      "authorship_tag": "ABX9TyM3si9snUDp+WVGAx0mASVx",
      "include_colab_link": true
    },
    "kernelspec": {
      "name": "python3",
      "display_name": "Python 3"
    },
    "language_info": {
      "name": "python"
    },
    "widgets": {
      "application/vnd.jupyter.widget-state+json": {
        "a833ab2ebf4f43569d801235d89f898a": {
          "model_module": "@jupyter-widgets/controls",
          "model_name": "VBoxModel",
          "model_module_version": "1.5.0",
          "state": {
            "_dom_classes": [],
            "_model_module": "@jupyter-widgets/controls",
            "_model_module_version": "1.5.0",
            "_model_name": "VBoxModel",
            "_view_count": null,
            "_view_module": "@jupyter-widgets/controls",
            "_view_module_version": "1.5.0",
            "_view_name": "VBoxView",
            "box_style": "",
            "children": [],
            "layout": "IPY_MODEL_91a16b89797e40d390bc3c8081de0dd0"
          }
        },
        "e2fc4ce407f84b36bb7876968456ad6b": {
          "model_module": "@jupyter-widgets/controls",
          "model_name": "HTMLModel",
          "model_module_version": "1.5.0",
          "state": {
            "_dom_classes": [],
            "_model_module": "@jupyter-widgets/controls",
            "_model_module_version": "1.5.0",
            "_model_name": "HTMLModel",
            "_view_count": null,
            "_view_module": "@jupyter-widgets/controls",
            "_view_module_version": "1.5.0",
            "_view_name": "HTMLView",
            "description": "",
            "description_tooltip": null,
            "layout": "IPY_MODEL_16b6fe103436428d890954ec5f0e2c0c",
            "placeholder": "​",
            "style": "IPY_MODEL_897e24e1b1bd46d29081c40810ee654a",
            "value": "<center> <img\nsrc=https://huggingface.co/front/assets/huggingface_logo-noborder.svg\nalt='Hugging Face'> <br> Copy a token from <a\nhref=\"https://huggingface.co/settings/tokens\" target=\"_blank\">your Hugging Face\ntokens page</a> and paste it below. <br> Immediately click login after copying\nyour token or it might be stored in plain text in this notebook file. </center>"
          }
        },
        "0560cd88d17f4d0f855d281a1732be29": {
          "model_module": "@jupyter-widgets/controls",
          "model_name": "PasswordModel",
          "model_module_version": "1.5.0",
          "state": {
            "_dom_classes": [],
            "_model_module": "@jupyter-widgets/controls",
            "_model_module_version": "1.5.0",
            "_model_name": "PasswordModel",
            "_view_count": null,
            "_view_module": "@jupyter-widgets/controls",
            "_view_module_version": "1.5.0",
            "_view_name": "PasswordView",
            "continuous_update": true,
            "description": "Token:",
            "description_tooltip": null,
            "disabled": false,
            "layout": "IPY_MODEL_2aa2cee8773b40e88ad8e299ffc9b871",
            "placeholder": "​",
            "style": "IPY_MODEL_f2caf3c034fe49e48faa8f235c295201",
            "value": ""
          }
        },
        "e4e174413e54476c907ebb71cf3dcb27": {
          "model_module": "@jupyter-widgets/controls",
          "model_name": "CheckboxModel",
          "model_module_version": "1.5.0",
          "state": {
            "_dom_classes": [],
            "_model_module": "@jupyter-widgets/controls",
            "_model_module_version": "1.5.0",
            "_model_name": "CheckboxModel",
            "_view_count": null,
            "_view_module": "@jupyter-widgets/controls",
            "_view_module_version": "1.5.0",
            "_view_name": "CheckboxView",
            "description": "Add token as git credential?",
            "description_tooltip": null,
            "disabled": false,
            "indent": true,
            "layout": "IPY_MODEL_9b45d8a843f24c0a9cef5f91000ebcff",
            "style": "IPY_MODEL_eb2ced06bd4f4837b7a7483cad017630",
            "value": true
          }
        },
        "3669da661fab4f0aa53ae334f6dbaf1b": {
          "model_module": "@jupyter-widgets/controls",
          "model_name": "ButtonModel",
          "model_module_version": "1.5.0",
          "state": {
            "_dom_classes": [],
            "_model_module": "@jupyter-widgets/controls",
            "_model_module_version": "1.5.0",
            "_model_name": "ButtonModel",
            "_view_count": null,
            "_view_module": "@jupyter-widgets/controls",
            "_view_module_version": "1.5.0",
            "_view_name": "ButtonView",
            "button_style": "",
            "description": "Login",
            "disabled": false,
            "icon": "",
            "layout": "IPY_MODEL_21cc62a5a9e043f3b19a7ae000acc6f5",
            "style": "IPY_MODEL_3e18d1e4b9b34a79a6909b1e32ee19ed",
            "tooltip": ""
          }
        },
        "4fbf5b38e0614fea89e8c550b4ab674d": {
          "model_module": "@jupyter-widgets/controls",
          "model_name": "HTMLModel",
          "model_module_version": "1.5.0",
          "state": {
            "_dom_classes": [],
            "_model_module": "@jupyter-widgets/controls",
            "_model_module_version": "1.5.0",
            "_model_name": "HTMLModel",
            "_view_count": null,
            "_view_module": "@jupyter-widgets/controls",
            "_view_module_version": "1.5.0",
            "_view_name": "HTMLView",
            "description": "",
            "description_tooltip": null,
            "layout": "IPY_MODEL_f25ecd378e19463b90f2ae7c12bb43cb",
            "placeholder": "​",
            "style": "IPY_MODEL_792c4f84ac9f427f9112cd4a7e2aaa41",
            "value": "\n<b>Pro Tip:</b> If you don't already have one, you can create a dedicated\n'notebooks' token with 'write' access, that you can then easily reuse for all\nnotebooks. </center>"
          }
        },
        "91a16b89797e40d390bc3c8081de0dd0": {
          "model_module": "@jupyter-widgets/base",
          "model_name": "LayoutModel",
          "model_module_version": "1.2.0",
          "state": {
            "_model_module": "@jupyter-widgets/base",
            "_model_module_version": "1.2.0",
            "_model_name": "LayoutModel",
            "_view_count": null,
            "_view_module": "@jupyter-widgets/base",
            "_view_module_version": "1.2.0",
            "_view_name": "LayoutView",
            "align_content": null,
            "align_items": "center",
            "align_self": null,
            "border": null,
            "bottom": null,
            "display": "flex",
            "flex": null,
            "flex_flow": "column",
            "grid_area": null,
            "grid_auto_columns": null,
            "grid_auto_flow": null,
            "grid_auto_rows": null,
            "grid_column": null,
            "grid_gap": null,
            "grid_row": null,
            "grid_template_areas": null,
            "grid_template_columns": null,
            "grid_template_rows": null,
            "height": null,
            "justify_content": null,
            "justify_items": null,
            "left": null,
            "margin": null,
            "max_height": null,
            "max_width": null,
            "min_height": null,
            "min_width": null,
            "object_fit": null,
            "object_position": null,
            "order": null,
            "overflow": null,
            "overflow_x": null,
            "overflow_y": null,
            "padding": null,
            "right": null,
            "top": null,
            "visibility": null,
            "width": "50%"
          }
        },
        "16b6fe103436428d890954ec5f0e2c0c": {
          "model_module": "@jupyter-widgets/base",
          "model_name": "LayoutModel",
          "model_module_version": "1.2.0",
          "state": {
            "_model_module": "@jupyter-widgets/base",
            "_model_module_version": "1.2.0",
            "_model_name": "LayoutModel",
            "_view_count": null,
            "_view_module": "@jupyter-widgets/base",
            "_view_module_version": "1.2.0",
            "_view_name": "LayoutView",
            "align_content": null,
            "align_items": null,
            "align_self": null,
            "border": null,
            "bottom": null,
            "display": null,
            "flex": null,
            "flex_flow": null,
            "grid_area": null,
            "grid_auto_columns": null,
            "grid_auto_flow": null,
            "grid_auto_rows": null,
            "grid_column": null,
            "grid_gap": null,
            "grid_row": null,
            "grid_template_areas": null,
            "grid_template_columns": null,
            "grid_template_rows": null,
            "height": null,
            "justify_content": null,
            "justify_items": null,
            "left": null,
            "margin": null,
            "max_height": null,
            "max_width": null,
            "min_height": null,
            "min_width": null,
            "object_fit": null,
            "object_position": null,
            "order": null,
            "overflow": null,
            "overflow_x": null,
            "overflow_y": null,
            "padding": null,
            "right": null,
            "top": null,
            "visibility": null,
            "width": null
          }
        },
        "897e24e1b1bd46d29081c40810ee654a": {
          "model_module": "@jupyter-widgets/controls",
          "model_name": "DescriptionStyleModel",
          "model_module_version": "1.5.0",
          "state": {
            "_model_module": "@jupyter-widgets/controls",
            "_model_module_version": "1.5.0",
            "_model_name": "DescriptionStyleModel",
            "_view_count": null,
            "_view_module": "@jupyter-widgets/base",
            "_view_module_version": "1.2.0",
            "_view_name": "StyleView",
            "description_width": ""
          }
        },
        "2aa2cee8773b40e88ad8e299ffc9b871": {
          "model_module": "@jupyter-widgets/base",
          "model_name": "LayoutModel",
          "model_module_version": "1.2.0",
          "state": {
            "_model_module": "@jupyter-widgets/base",
            "_model_module_version": "1.2.0",
            "_model_name": "LayoutModel",
            "_view_count": null,
            "_view_module": "@jupyter-widgets/base",
            "_view_module_version": "1.2.0",
            "_view_name": "LayoutView",
            "align_content": null,
            "align_items": null,
            "align_self": null,
            "border": null,
            "bottom": null,
            "display": null,
            "flex": null,
            "flex_flow": null,
            "grid_area": null,
            "grid_auto_columns": null,
            "grid_auto_flow": null,
            "grid_auto_rows": null,
            "grid_column": null,
            "grid_gap": null,
            "grid_row": null,
            "grid_template_areas": null,
            "grid_template_columns": null,
            "grid_template_rows": null,
            "height": null,
            "justify_content": null,
            "justify_items": null,
            "left": null,
            "margin": null,
            "max_height": null,
            "max_width": null,
            "min_height": null,
            "min_width": null,
            "object_fit": null,
            "object_position": null,
            "order": null,
            "overflow": null,
            "overflow_x": null,
            "overflow_y": null,
            "padding": null,
            "right": null,
            "top": null,
            "visibility": null,
            "width": null
          }
        },
        "f2caf3c034fe49e48faa8f235c295201": {
          "model_module": "@jupyter-widgets/controls",
          "model_name": "DescriptionStyleModel",
          "model_module_version": "1.5.0",
          "state": {
            "_model_module": "@jupyter-widgets/controls",
            "_model_module_version": "1.5.0",
            "_model_name": "DescriptionStyleModel",
            "_view_count": null,
            "_view_module": "@jupyter-widgets/base",
            "_view_module_version": "1.2.0",
            "_view_name": "StyleView",
            "description_width": ""
          }
        },
        "9b45d8a843f24c0a9cef5f91000ebcff": {
          "model_module": "@jupyter-widgets/base",
          "model_name": "LayoutModel",
          "model_module_version": "1.2.0",
          "state": {
            "_model_module": "@jupyter-widgets/base",
            "_model_module_version": "1.2.0",
            "_model_name": "LayoutModel",
            "_view_count": null,
            "_view_module": "@jupyter-widgets/base",
            "_view_module_version": "1.2.0",
            "_view_name": "LayoutView",
            "align_content": null,
            "align_items": null,
            "align_self": null,
            "border": null,
            "bottom": null,
            "display": null,
            "flex": null,
            "flex_flow": null,
            "grid_area": null,
            "grid_auto_columns": null,
            "grid_auto_flow": null,
            "grid_auto_rows": null,
            "grid_column": null,
            "grid_gap": null,
            "grid_row": null,
            "grid_template_areas": null,
            "grid_template_columns": null,
            "grid_template_rows": null,
            "height": null,
            "justify_content": null,
            "justify_items": null,
            "left": null,
            "margin": null,
            "max_height": null,
            "max_width": null,
            "min_height": null,
            "min_width": null,
            "object_fit": null,
            "object_position": null,
            "order": null,
            "overflow": null,
            "overflow_x": null,
            "overflow_y": null,
            "padding": null,
            "right": null,
            "top": null,
            "visibility": null,
            "width": null
          }
        },
        "eb2ced06bd4f4837b7a7483cad017630": {
          "model_module": "@jupyter-widgets/controls",
          "model_name": "DescriptionStyleModel",
          "model_module_version": "1.5.0",
          "state": {
            "_model_module": "@jupyter-widgets/controls",
            "_model_module_version": "1.5.0",
            "_model_name": "DescriptionStyleModel",
            "_view_count": null,
            "_view_module": "@jupyter-widgets/base",
            "_view_module_version": "1.2.0",
            "_view_name": "StyleView",
            "description_width": ""
          }
        },
        "21cc62a5a9e043f3b19a7ae000acc6f5": {
          "model_module": "@jupyter-widgets/base",
          "model_name": "LayoutModel",
          "model_module_version": "1.2.0",
          "state": {
            "_model_module": "@jupyter-widgets/base",
            "_model_module_version": "1.2.0",
            "_model_name": "LayoutModel",
            "_view_count": null,
            "_view_module": "@jupyter-widgets/base",
            "_view_module_version": "1.2.0",
            "_view_name": "LayoutView",
            "align_content": null,
            "align_items": null,
            "align_self": null,
            "border": null,
            "bottom": null,
            "display": null,
            "flex": null,
            "flex_flow": null,
            "grid_area": null,
            "grid_auto_columns": null,
            "grid_auto_flow": null,
            "grid_auto_rows": null,
            "grid_column": null,
            "grid_gap": null,
            "grid_row": null,
            "grid_template_areas": null,
            "grid_template_columns": null,
            "grid_template_rows": null,
            "height": null,
            "justify_content": null,
            "justify_items": null,
            "left": null,
            "margin": null,
            "max_height": null,
            "max_width": null,
            "min_height": null,
            "min_width": null,
            "object_fit": null,
            "object_position": null,
            "order": null,
            "overflow": null,
            "overflow_x": null,
            "overflow_y": null,
            "padding": null,
            "right": null,
            "top": null,
            "visibility": null,
            "width": null
          }
        },
        "3e18d1e4b9b34a79a6909b1e32ee19ed": {
          "model_module": "@jupyter-widgets/controls",
          "model_name": "ButtonStyleModel",
          "model_module_version": "1.5.0",
          "state": {
            "_model_module": "@jupyter-widgets/controls",
            "_model_module_version": "1.5.0",
            "_model_name": "ButtonStyleModel",
            "_view_count": null,
            "_view_module": "@jupyter-widgets/base",
            "_view_module_version": "1.2.0",
            "_view_name": "StyleView",
            "button_color": null,
            "font_weight": ""
          }
        },
        "f25ecd378e19463b90f2ae7c12bb43cb": {
          "model_module": "@jupyter-widgets/base",
          "model_name": "LayoutModel",
          "model_module_version": "1.2.0",
          "state": {
            "_model_module": "@jupyter-widgets/base",
            "_model_module_version": "1.2.0",
            "_model_name": "LayoutModel",
            "_view_count": null,
            "_view_module": "@jupyter-widgets/base",
            "_view_module_version": "1.2.0",
            "_view_name": "LayoutView",
            "align_content": null,
            "align_items": null,
            "align_self": null,
            "border": null,
            "bottom": null,
            "display": null,
            "flex": null,
            "flex_flow": null,
            "grid_area": null,
            "grid_auto_columns": null,
            "grid_auto_flow": null,
            "grid_auto_rows": null,
            "grid_column": null,
            "grid_gap": null,
            "grid_row": null,
            "grid_template_areas": null,
            "grid_template_columns": null,
            "grid_template_rows": null,
            "height": null,
            "justify_content": null,
            "justify_items": null,
            "left": null,
            "margin": null,
            "max_height": null,
            "max_width": null,
            "min_height": null,
            "min_width": null,
            "object_fit": null,
            "object_position": null,
            "order": null,
            "overflow": null,
            "overflow_x": null,
            "overflow_y": null,
            "padding": null,
            "right": null,
            "top": null,
            "visibility": null,
            "width": null
          }
        },
        "792c4f84ac9f427f9112cd4a7e2aaa41": {
          "model_module": "@jupyter-widgets/controls",
          "model_name": "DescriptionStyleModel",
          "model_module_version": "1.5.0",
          "state": {
            "_model_module": "@jupyter-widgets/controls",
            "_model_module_version": "1.5.0",
            "_model_name": "DescriptionStyleModel",
            "_view_count": null,
            "_view_module": "@jupyter-widgets/base",
            "_view_module_version": "1.2.0",
            "_view_name": "StyleView",
            "description_width": ""
          }
        },
        "56b940b6c23d45048ff8bce0c68a8880": {
          "model_module": "@jupyter-widgets/controls",
          "model_name": "LabelModel",
          "model_module_version": "1.5.0",
          "state": {
            "_dom_classes": [],
            "_model_module": "@jupyter-widgets/controls",
            "_model_module_version": "1.5.0",
            "_model_name": "LabelModel",
            "_view_count": null,
            "_view_module": "@jupyter-widgets/controls",
            "_view_module_version": "1.5.0",
            "_view_name": "LabelView",
            "description": "",
            "description_tooltip": null,
            "layout": "IPY_MODEL_0ffb76c241d24788bde369349233c095",
            "placeholder": "​",
            "style": "IPY_MODEL_2ffd9697304b4daca3587b042cf59a6c",
            "value": "Connecting..."
          }
        },
        "0ffb76c241d24788bde369349233c095": {
          "model_module": "@jupyter-widgets/base",
          "model_name": "LayoutModel",
          "model_module_version": "1.2.0",
          "state": {
            "_model_module": "@jupyter-widgets/base",
            "_model_module_version": "1.2.0",
            "_model_name": "LayoutModel",
            "_view_count": null,
            "_view_module": "@jupyter-widgets/base",
            "_view_module_version": "1.2.0",
            "_view_name": "LayoutView",
            "align_content": null,
            "align_items": null,
            "align_self": null,
            "border": null,
            "bottom": null,
            "display": null,
            "flex": null,
            "flex_flow": null,
            "grid_area": null,
            "grid_auto_columns": null,
            "grid_auto_flow": null,
            "grid_auto_rows": null,
            "grid_column": null,
            "grid_gap": null,
            "grid_row": null,
            "grid_template_areas": null,
            "grid_template_columns": null,
            "grid_template_rows": null,
            "height": null,
            "justify_content": null,
            "justify_items": null,
            "left": null,
            "margin": null,
            "max_height": null,
            "max_width": null,
            "min_height": null,
            "min_width": null,
            "object_fit": null,
            "object_position": null,
            "order": null,
            "overflow": null,
            "overflow_x": null,
            "overflow_y": null,
            "padding": null,
            "right": null,
            "top": null,
            "visibility": null,
            "width": null
          }
        },
        "2ffd9697304b4daca3587b042cf59a6c": {
          "model_module": "@jupyter-widgets/controls",
          "model_name": "DescriptionStyleModel",
          "model_module_version": "1.5.0",
          "state": {
            "_model_module": "@jupyter-widgets/controls",
            "_model_module_version": "1.5.0",
            "_model_name": "DescriptionStyleModel",
            "_view_count": null,
            "_view_module": "@jupyter-widgets/base",
            "_view_module_version": "1.2.0",
            "_view_name": "StyleView",
            "description_width": ""
          }
        }
      }
    }
  },
  "cells": [
    {
      "cell_type": "markdown",
      "metadata": {
        "id": "view-in-github",
        "colab_type": "text"
      },
      "source": [
        "<a href=\"https://colab.research.google.com/github/saishshinde15/smol-agents/blob/main/tool_calling_agent.ipynb\" target=\"_parent\"><img src=\"https://colab.research.google.com/assets/colab-badge.svg\" alt=\"Open In Colab\"/></a>"
      ]
    },
    {
      "cell_type": "code",
      "execution_count": 1,
      "metadata": {
        "colab": {
          "base_uri": "https://localhost:8080/"
        },
        "id": "TAzQD-DJcea8",
        "outputId": "072df3d8-0c4c-4b85-aed5-b51215a1918e"
      },
      "outputs": [
        {
          "output_type": "stream",
          "name": "stdout",
          "text": [
            "Collecting smolagents\n",
            "  Downloading smolagents-1.9.2-py3-none-any.whl.metadata (14 kB)\n",
            "Requirement already satisfied: huggingface-hub>=0.28.0 in /usr/local/lib/python3.11/dist-packages (from smolagents) (0.28.1)\n",
            "Requirement already satisfied: requests>=2.32.3 in /usr/local/lib/python3.11/dist-packages (from smolagents) (2.32.3)\n",
            "Requirement already satisfied: rich>=13.9.4 in /usr/local/lib/python3.11/dist-packages (from smolagents) (13.9.4)\n",
            "Collecting pandas>=2.2.3 (from smolagents)\n",
            "  Downloading pandas-2.2.3-cp311-cp311-manylinux_2_17_x86_64.manylinux2014_x86_64.whl.metadata (89 kB)\n",
            "\u001b[2K     \u001b[90m━━━━━━━━━━━━━━━━━━━━━━━━━━━━━━━━━━━━━━━━\u001b[0m \u001b[32m89.9/89.9 kB\u001b[0m \u001b[31m1.3 MB/s\u001b[0m eta \u001b[36m0:00:00\u001b[0m\n",
            "\u001b[?25hRequirement already satisfied: jinja2>=3.1.4 in /usr/local/lib/python3.11/dist-packages (from smolagents) (3.1.5)\n",
            "Requirement already satisfied: pillow>=11.0.0 in /usr/local/lib/python3.11/dist-packages (from smolagents) (11.1.0)\n",
            "Collecting markdownify>=0.14.1 (from smolagents)\n",
            "  Downloading markdownify-1.0.0-py3-none-any.whl.metadata (9.1 kB)\n",
            "Collecting duckduckgo-search>=6.3.7 (from smolagents)\n",
            "  Downloading duckduckgo_search-7.5.0-py3-none-any.whl.metadata (17 kB)\n",
            "Collecting python-dotenv (from smolagents)\n",
            "  Downloading python_dotenv-1.0.1-py3-none-any.whl.metadata (23 kB)\n",
            "Requirement already satisfied: click>=8.1.8 in /usr/local/lib/python3.11/dist-packages (from duckduckgo-search>=6.3.7->smolagents) (8.1.8)\n",
            "Collecting primp>=0.14.0 (from duckduckgo-search>=6.3.7->smolagents)\n",
            "  Downloading primp-0.14.0-cp38-abi3-manylinux_2_17_x86_64.manylinux2014_x86_64.whl.metadata (13 kB)\n",
            "Requirement already satisfied: lxml>=5.3.0 in /usr/local/lib/python3.11/dist-packages (from duckduckgo-search>=6.3.7->smolagents) (5.3.1)\n",
            "Requirement already satisfied: filelock in /usr/local/lib/python3.11/dist-packages (from huggingface-hub>=0.28.0->smolagents) (3.17.0)\n",
            "Requirement already satisfied: fsspec>=2023.5.0 in /usr/local/lib/python3.11/dist-packages (from huggingface-hub>=0.28.0->smolagents) (2024.10.0)\n",
            "Requirement already satisfied: packaging>=20.9 in /usr/local/lib/python3.11/dist-packages (from huggingface-hub>=0.28.0->smolagents) (24.2)\n",
            "Requirement already satisfied: pyyaml>=5.1 in /usr/local/lib/python3.11/dist-packages (from huggingface-hub>=0.28.0->smolagents) (6.0.2)\n",
            "Requirement already satisfied: tqdm>=4.42.1 in /usr/local/lib/python3.11/dist-packages (from huggingface-hub>=0.28.0->smolagents) (4.67.1)\n",
            "Requirement already satisfied: typing-extensions>=3.7.4.3 in /usr/local/lib/python3.11/dist-packages (from huggingface-hub>=0.28.0->smolagents) (4.12.2)\n",
            "Requirement already satisfied: MarkupSafe>=2.0 in /usr/local/lib/python3.11/dist-packages (from jinja2>=3.1.4->smolagents) (3.0.2)\n",
            "Requirement already satisfied: beautifulsoup4<5,>=4.9 in /usr/local/lib/python3.11/dist-packages (from markdownify>=0.14.1->smolagents) (4.13.3)\n",
            "Requirement already satisfied: six<2,>=1.15 in /usr/local/lib/python3.11/dist-packages (from markdownify>=0.14.1->smolagents) (1.17.0)\n",
            "Requirement already satisfied: numpy>=1.23.2 in /usr/local/lib/python3.11/dist-packages (from pandas>=2.2.3->smolagents) (1.26.4)\n",
            "Requirement already satisfied: python-dateutil>=2.8.2 in /usr/local/lib/python3.11/dist-packages (from pandas>=2.2.3->smolagents) (2.8.2)\n",
            "Requirement already satisfied: pytz>=2020.1 in /usr/local/lib/python3.11/dist-packages (from pandas>=2.2.3->smolagents) (2025.1)\n",
            "Requirement already satisfied: tzdata>=2022.7 in /usr/local/lib/python3.11/dist-packages (from pandas>=2.2.3->smolagents) (2025.1)\n",
            "Requirement already satisfied: charset-normalizer<4,>=2 in /usr/local/lib/python3.11/dist-packages (from requests>=2.32.3->smolagents) (3.4.1)\n",
            "Requirement already satisfied: idna<4,>=2.5 in /usr/local/lib/python3.11/dist-packages (from requests>=2.32.3->smolagents) (3.10)\n",
            "Requirement already satisfied: urllib3<3,>=1.21.1 in /usr/local/lib/python3.11/dist-packages (from requests>=2.32.3->smolagents) (2.3.0)\n",
            "Requirement already satisfied: certifi>=2017.4.17 in /usr/local/lib/python3.11/dist-packages (from requests>=2.32.3->smolagents) (2025.1.31)\n",
            "Requirement already satisfied: markdown-it-py>=2.2.0 in /usr/local/lib/python3.11/dist-packages (from rich>=13.9.4->smolagents) (3.0.0)\n",
            "Requirement already satisfied: pygments<3.0.0,>=2.13.0 in /usr/local/lib/python3.11/dist-packages (from rich>=13.9.4->smolagents) (2.18.0)\n",
            "Requirement already satisfied: soupsieve>1.2 in /usr/local/lib/python3.11/dist-packages (from beautifulsoup4<5,>=4.9->markdownify>=0.14.1->smolagents) (2.6)\n",
            "Requirement already satisfied: mdurl~=0.1 in /usr/local/lib/python3.11/dist-packages (from markdown-it-py>=2.2.0->rich>=13.9.4->smolagents) (0.1.2)\n",
            "Downloading smolagents-1.9.2-py3-none-any.whl (101 kB)\n",
            "\u001b[2K   \u001b[90m━━━━━━━━━━━━━━━━━━━━━━━━━━━━━━━━━━━━━━━━\u001b[0m \u001b[32m101.8/101.8 kB\u001b[0m \u001b[31m2.5 MB/s\u001b[0m eta \u001b[36m0:00:00\u001b[0m\n",
            "\u001b[?25hDownloading duckduckgo_search-7.5.0-py3-none-any.whl (20 kB)\n",
            "Downloading markdownify-1.0.0-py3-none-any.whl (13 kB)\n",
            "Downloading pandas-2.2.3-cp311-cp311-manylinux_2_17_x86_64.manylinux2014_x86_64.whl (13.1 MB)\n",
            "\u001b[2K   \u001b[90m━━━━━━━━━━━━━━━━━━━━━━━━━━━━━━━━━━━━━━━━\u001b[0m \u001b[32m13.1/13.1 MB\u001b[0m \u001b[31m50.0 MB/s\u001b[0m eta \u001b[36m0:00:00\u001b[0m\n",
            "\u001b[?25hDownloading python_dotenv-1.0.1-py3-none-any.whl (19 kB)\n",
            "Downloading primp-0.14.0-cp38-abi3-manylinux_2_17_x86_64.manylinux2014_x86_64.whl (3.3 MB)\n",
            "\u001b[2K   \u001b[90m━━━━━━━━━━━━━━━━━━━━━━━━━━━━━━━━━━━━━━━━\u001b[0m \u001b[32m3.3/3.3 MB\u001b[0m \u001b[31m50.2 MB/s\u001b[0m eta \u001b[36m0:00:00\u001b[0m\n",
            "\u001b[?25hInstalling collected packages: python-dotenv, primp, pandas, markdownify, duckduckgo-search, smolagents\n",
            "  Attempting uninstall: pandas\n",
            "    Found existing installation: pandas 2.2.2\n",
            "    Uninstalling pandas-2.2.2:\n",
            "      Successfully uninstalled pandas-2.2.2\n",
            "\u001b[31mERROR: pip's dependency resolver does not currently take into account all the packages that are installed. This behaviour is the source of the following dependency conflicts.\n",
            "google-colab 1.0.0 requires pandas==2.2.2, but you have pandas 2.2.3 which is incompatible.\u001b[0m\u001b[31m\n",
            "\u001b[0mSuccessfully installed duckduckgo-search-7.5.0 markdownify-1.0.0 pandas-2.2.3 primp-0.14.0 python-dotenv-1.0.1 smolagents-1.9.2\n"
          ]
        }
      ],
      "source": [
        "!pip install smolagents -U"
      ]
    },
    {
      "cell_type": "code",
      "source": [
        "\n",
        "from huggingface_hub import notebook_login\n",
        "\n",
        "notebook_login()\n",
        ""
      ],
      "metadata": {
        "colab": {
          "base_uri": "https://localhost:8080/",
          "height": 17,
          "referenced_widgets": [
            "a833ab2ebf4f43569d801235d89f898a",
            "e2fc4ce407f84b36bb7876968456ad6b",
            "0560cd88d17f4d0f855d281a1732be29",
            "e4e174413e54476c907ebb71cf3dcb27",
            "3669da661fab4f0aa53ae334f6dbaf1b",
            "4fbf5b38e0614fea89e8c550b4ab674d",
            "91a16b89797e40d390bc3c8081de0dd0",
            "16b6fe103436428d890954ec5f0e2c0c",
            "897e24e1b1bd46d29081c40810ee654a",
            "2aa2cee8773b40e88ad8e299ffc9b871",
            "f2caf3c034fe49e48faa8f235c295201",
            "9b45d8a843f24c0a9cef5f91000ebcff",
            "eb2ced06bd4f4837b7a7483cad017630",
            "21cc62a5a9e043f3b19a7ae000acc6f5",
            "3e18d1e4b9b34a79a6909b1e32ee19ed",
            "f25ecd378e19463b90f2ae7c12bb43cb",
            "792c4f84ac9f427f9112cd4a7e2aaa41",
            "56b940b6c23d45048ff8bce0c68a8880",
            "0ffb76c241d24788bde369349233c095",
            "2ffd9697304b4daca3587b042cf59a6c"
          ]
        },
        "id": "nFCNSGkxco9u",
        "outputId": "36c0e5b9-fac4-41ee-a445-5c664fe7c25f"
      },
      "execution_count": 2,
      "outputs": [
        {
          "output_type": "display_data",
          "data": {
            "text/plain": [
              "VBox(children=(HTML(value='<center> <img\\nsrc=https://huggingface.co/front/assets/huggingface_logo-noborder.sv…"
            ],
            "application/vnd.jupyter.widget-view+json": {
              "version_major": 2,
              "version_minor": 0,
              "model_id": "a833ab2ebf4f43569d801235d89f898a"
            }
          },
          "metadata": {}
        }
      ]
    },
    {
      "cell_type": "code",
      "source": [
        "from smolagents import ToolCallingAgent, DuckDuckGoSearchTool, HfApiModel\n",
        "\n",
        "agent = ToolCallingAgent(tools=[DuckDuckGoSearchTool()], model=HfApiModel())\n",
        "\n",
        "agent.run(\"Search for the best music recommendations for a party at the Wayne's mansion.\")"
      ],
      "metadata": {
        "colab": {
          "base_uri": "https://localhost:8080/",
          "height": 1000
        },
        "id": "0hJCsQbXcrIr",
        "outputId": "56a196cc-ba6f-4865-be0c-e5ed9e0392a7"
      },
      "execution_count": 3,
      "outputs": [
        {
          "output_type": "display_data",
          "data": {
            "text/plain": [
              "\u001b[38;2;212;183;2m╭─\u001b[0m\u001b[38;2;212;183;2m───────────────────────────────────────────────────\u001b[0m\u001b[38;2;212;183;2m \u001b[0m\u001b[1;38;2;212;183;2mNew run\u001b[0m\u001b[38;2;212;183;2m \u001b[0m\u001b[38;2;212;183;2m───────────────────────────────────────────────────\u001b[0m\u001b[38;2;212;183;2m─╮\u001b[0m\n",
              "\u001b[38;2;212;183;2m│\u001b[0m                                                                                                                 \u001b[38;2;212;183;2m│\u001b[0m\n",
              "\u001b[38;2;212;183;2m│\u001b[0m \u001b[1mSearch for the best music recommendations for a party at the Wayne's mansion.\u001b[0m                                   \u001b[38;2;212;183;2m│\u001b[0m\n",
              "\u001b[38;2;212;183;2m│\u001b[0m                                                                                                                 \u001b[38;2;212;183;2m│\u001b[0m\n",
              "\u001b[38;2;212;183;2m╰─\u001b[0m\u001b[38;2;212;183;2m HfApiModel - Qwen/Qwen2.5-Coder-32B-Instruct \u001b[0m\u001b[38;2;212;183;2m─────────────────────────────────────────────────────────────────\u001b[0m\u001b[38;2;212;183;2m─╯\u001b[0m\n"
            ],
            "text/html": [
              "<pre style=\"white-space:pre;overflow-x:auto;line-height:normal;font-family:Menlo,'DejaVu Sans Mono',consolas,'Courier New',monospace\"><span style=\"color: #d4b702; text-decoration-color: #d4b702\">╭──────────────────────────────────────────────────── </span><span style=\"color: #d4b702; text-decoration-color: #d4b702; font-weight: bold\">New run</span><span style=\"color: #d4b702; text-decoration-color: #d4b702\"> ────────────────────────────────────────────────────╮</span>\n",
              "<span style=\"color: #d4b702; text-decoration-color: #d4b702\">│</span>                                                                                                                 <span style=\"color: #d4b702; text-decoration-color: #d4b702\">│</span>\n",
              "<span style=\"color: #d4b702; text-decoration-color: #d4b702\">│</span> <span style=\"font-weight: bold\">Search for the best music recommendations for a party at the Wayne's mansion.</span>                                   <span style=\"color: #d4b702; text-decoration-color: #d4b702\">│</span>\n",
              "<span style=\"color: #d4b702; text-decoration-color: #d4b702\">│</span>                                                                                                                 <span style=\"color: #d4b702; text-decoration-color: #d4b702\">│</span>\n",
              "<span style=\"color: #d4b702; text-decoration-color: #d4b702\">╰─ HfApiModel - Qwen/Qwen2.5-Coder-32B-Instruct ──────────────────────────────────────────────────────────────────╯</span>\n",
              "</pre>\n"
            ]
          },
          "metadata": {}
        },
        {
          "output_type": "display_data",
          "data": {
            "text/plain": [
              "\u001b[38;2;212;183;2m━━━━━━━━━━━━━━━━━━━━━━━━━━━━━━━━━━━━━━━━━━━━━━━━━━━━━ \u001b[0m\u001b[1mStep \u001b[0m\u001b[1;36m1\u001b[0m\u001b[38;2;212;183;2m ━━━━━━━━━━━━━━━━━━━━━━━━━━━━━━━━━━━━━━━━━━━━━━━━━━━━━━\u001b[0m\n"
            ],
            "text/html": [
              "<pre style=\"white-space:pre;overflow-x:auto;line-height:normal;font-family:Menlo,'DejaVu Sans Mono',consolas,'Courier New',monospace\"><span style=\"color: #d4b702; text-decoration-color: #d4b702\">━━━━━━━━━━━━━━━━━━━━━━━━━━━━━━━━━━━━━━━━━━━━━━━━━━━━━ </span><span style=\"font-weight: bold\">Step </span><span style=\"color: #008080; text-decoration-color: #008080; font-weight: bold\">1</span><span style=\"color: #d4b702; text-decoration-color: #d4b702\"> ━━━━━━━━━━━━━━━━━━━━━━━━━━━━━━━━━━━━━━━━━━━━━━━━━━━━━━</span>\n",
              "</pre>\n"
            ]
          },
          "metadata": {}
        },
        {
          "output_type": "stream",
          "name": "stderr",
          "text": [
            "/usr/local/lib/python3.11/dist-packages/huggingface_hub/utils/_auth.py:94: UserWarning: \n",
            "The secret `HF_TOKEN` does not exist in your Colab secrets.\n",
            "To authenticate with the Hugging Face Hub, create a token in your settings tab (https://huggingface.co/settings/tokens), set it as secret in your Google Colab and restart your session.\n",
            "You will be able to reuse this secret in all of your notebooks.\n",
            "Please note that authentication is recommended but still optional to access public models or datasets.\n",
            "  warnings.warn(\n"
          ]
        },
        {
          "output_type": "display_data",
          "data": {
            "text/plain": [
              "╭─────────────────────────────────────────────────────────────────────────────────────────────────────────────────╮\n",
              "│ Calling tool: 'web_search' with arguments: {'query': \"best music recommendations for a party at Wayne's         │\n",
              "│ mansion\"}                                                                                                       │\n",
              "╰─────────────────────────────────────────────────────────────────────────────────────────────────────────────────╯\n"
            ],
            "text/html": [
              "<pre style=\"white-space:pre;overflow-x:auto;line-height:normal;font-family:Menlo,'DejaVu Sans Mono',consolas,'Courier New',monospace\">╭─────────────────────────────────────────────────────────────────────────────────────────────────────────────────╮\n",
              "│ Calling tool: 'web_search' with arguments: {'query': \"best music recommendations for a party at Wayne's         │\n",
              "│ mansion\"}                                                                                                       │\n",
              "╰─────────────────────────────────────────────────────────────────────────────────────────────────────────────────╯\n",
              "</pre>\n"
            ]
          },
          "metadata": {}
        },
        {
          "output_type": "display_data",
          "data": {
            "text/plain": [
              "Observations: ## Search Results\n",
              "\n",
              "|The \u001b[1;36m75\u001b[0m Best Party Songs That Will Get Everyone Dancing - \n",
              "Gear4music\u001b[1m]\u001b[0m\u001b[1m(\u001b[0m\u001b[4;94mhttps://www.gear4music.com/blog/best-party-songs/\u001b[0m\u001b[4;94m)\u001b[0m\n",
              "The best party songs \u001b[1;36m1\u001b[0m. \u001b[32m\"September\"\u001b[0m - Earth, Wind & Fire \u001b[1m(\u001b[0m\u001b[1;36m1978\u001b[0m\u001b[1m)\u001b[0m Quite possibly the best party song. An infectious \n",
              "mix of funk and soul, \u001b[32m\"September\"\u001b[0m is celebrated for its upbeat melody and \u001b[32m\"ba-dee-ya\"\u001b[0m chorus, making it a timeless \n",
              "dance favorite.\n",
              "\n",
              "|\u001b[1;36m200\u001b[0m Classic House Party Songs Everyone Knows | The Best \u001b[33m...\u001b[0m - \n",
              "iSpyTunes\u001b[1m]\u001b[0m\u001b[1m(\u001b[0m\u001b[4;94mhttps://www.ispytunes.com/post/house-party-songs\u001b[0m\u001b[4;94m)\u001b[0m\n",
              "\" Branded merchandise adds flair to any occasion, just like the perfect playlist. \u001b[1;36m200\u001b[0m classic house party songs \n",
              "everyone knows set the mood, bringing energy to every celebration. The best popular party hits keep guests dancing,\n",
              "creating unforgettable moments. From throwback anthems to modern beats, a great selection ensures nonstop fun.\n",
              "\n",
              "|\u001b[1;36m50\u001b[0m Songs on Every Event Planner's Playlist - \n",
              "Eventbrite\u001b[1m]\u001b[0m\u001b[1m(\u001b[0m\u001b[4;94mhttps://www.eventbrite.com/blog/event-planning-playlist-ds00/\u001b[0m\u001b[4;94m)\u001b[0m\n",
              "Music sets the mood and provides the soundtrack \u001b[1m(\u001b[0mliterally\u001b[1m)\u001b[0m for a memorable and exciting time. While the right \n",
              "songs can enhance the experience, the wrong event music can throw off the vibe. For example, fast-paced songs \n",
              "probably aren't the best fit for a formal gala. And smooth jazz is likely to lull your guests at a motivational \n",
              "conference.\n",
              "\n",
              "|Similar Songs Finder | Spotify Playlist Generator - Chosic\u001b[1m]\u001b[0m\u001b[1m(\u001b[0m\u001b[4;94mhttps://www.chosic.com/playlist-generator/\u001b[0m\u001b[4;94m)\u001b[0m\n",
              "Need to find similar songs to a song you like? To music you love? A playlist created for you in seconds! With \n",
              "Spotify Playlist Generator online tool, create awesome playlists in seconds, featuring similar songs to those you \n",
              "love. Whether by songs, artists, genres, moods, or based on a playlist, just start with what you have in mind, and \n",
              "it will provide you with plenty of song recommendations \u001b[33m...\u001b[0m\n",
              "\n",
              "|The Top \u001b[1;36m100\u001b[0m Best Party Songs of All Time - \n",
              "LiveAbout\u001b[1m]\u001b[0m\u001b[1m(\u001b[0m\u001b[4;94mhttps://www.liveabout.com/top-best-party-songs-of-all-time-3248355\u001b[0m\u001b[4;94m)\u001b[0m\n",
              "\u001b[32m\"Macarena\"\u001b[0m then spent \u001b[1;36m14\u001b[0m weeks at No. \u001b[1;36m1\u001b[0m on the U.S. pop singles chart. For more than a year this was one of the \n",
              "most popular special event songs in the United States. It still works well as a charming party song encouraging \n",
              "everyone to join in on the simple dance.\n",
              "\n",
              "|\u001b[1;36m70\u001b[0m Best Piano Bar Songs You Should Request\u001b[1m]\u001b[0m\u001b[1m(\u001b[0m\u001b[4;94mhttps://www.pianoarea.com/best-piano-bar-songs/\u001b[0m\u001b[4;94m)\u001b[0m\n",
              "Best Piano Bar Songs You Should Request \u001b[1;36m1\u001b[0m. \u001b[32m\"Piano Man\"\u001b[0m by Billy Joel. One of the top recommendations for piano bar \n",
              "songs is \u001b[32m\"Piano Man\"\u001b[0m by Billy Joel.. This iconic track was released by Columbia Records in \u001b[1;36m1973\u001b[0m.. As part of the \n",
              "album titled \u001b[32m'Piano Man,'\u001b[0m it's one of Billy Joel's most recognizable works.. The song spins a captivating narrative\n",
              "and showcases Joe's compelling \u001b[33m...\u001b[0m\n",
              "\n",
              "|The top ten perfect house party tunes - Features - \n",
              "Mixmag\u001b[1m]\u001b[0m\u001b[1m(\u001b[0m\u001b[4;94mhttps://mixmag.net/feature/the-top-ten-perfect-house-party-tunes\u001b[0m\u001b[4;94m)\u001b[0m\n",
              "Now, we've teamed up with Libratone to offer you the chance to win your very own house party, with a class DJ \n",
              "coming along to get behind the decks and soundtrack your night. We're also throwing in pizza and a cleaner for the \n",
              "day after. All you need to do is upload your best snaps to Instagram with the hashtag #lostinthebeat to be in with \n",
              "a shot.\n",
              "\n",
              "|Party Music Guide: Ultimate Tips for the Perfect \n",
              "Playlist\u001b[1m]\u001b[0m\u001b[1m(\u001b[0m\u001b[4;94mhttps://thebackstage-deezer.com/music/perfect-party-music-playlist/\u001b[0m\u001b[4;94m)\u001b[0m\n",
              "Check out the best party playlists and top party songs to ensure your next party is packed! The most popular party \n",
              "songs are here, just hit play. \u001b[33m...\u001b[0m to decor. But, most of all, you need to have fantastic music. We recommend you \n",
              "get at least three hours' worth of party music queued and ready — that's about \u001b[1;36m75\u001b[0m songs. Lucky for you, we've \u001b[33m...\u001b[0m\n",
              "\n",
              "|\u001b[1;36m11\u001b[0m Songs About Castles, Kingdoms, Palaces & Such | \n",
              "Playlist\u001b[1m]\u001b[0m\u001b[1m(\u001b[0m\u001b[4;94mhttps://themusicalhype.com/11-songs-about-castles-kingdoms-palaces-playlist/\u001b[0m\u001b[4;94m)\u001b[0m\n",
              "\u001b[1;36m3\u001b[0m. Father John Misty, \u001b[32m\"The Palace\"\u001b[0m God's Favorite Customer • Sub Pop • \u001b[1;36m2018\u001b[0m. Father John Misty \u001b[1m(\u001b[0mJosh Tillman\u001b[1m)\u001b[0m gets \n",
              "real about mental health throughout the course of his \u001b[1;36m2018\u001b[0m LP, God's Favorite Customer.Among the most haunting \n",
              "songs from the album is the piano-driven \u001b[32m\"The Palace\"\u001b[0m.The incredible slow \u001b[32m\"The Palace,\"\u001b[0m as aforementioned, explores\n",
              "Tillman's mental health as well \u001b[33m...\u001b[0m\n",
              "\n",
              "|Best Songs for a Party - Deezer The Backstage\u001b[1m]\u001b[0m\u001b[1m(\u001b[0m\u001b[4;94mhttps://thebackstage-deezer.com/tops/best-song-party/\u001b[0m\u001b[4;94m)\u001b[0m\n",
              "The best party songs to get people dancing at the end of the night always keep them on their toes. Genre-specific \n",
              "party songs Every party calls for a different atmosphere, and music plays an important part in creating it. Here \n",
              "are two of the most popular decades for unforgettable tunes.\n"
            ],
            "text/html": [
              "<pre style=\"white-space:pre;overflow-x:auto;line-height:normal;font-family:Menlo,'DejaVu Sans Mono',consolas,'Courier New',monospace\">Observations: ## Search Results\n",
              "\n",
              "|The <span style=\"color: #008080; text-decoration-color: #008080; font-weight: bold\">75</span> Best Party Songs That Will Get Everyone Dancing - \n",
              "Gear4music<span style=\"font-weight: bold\">](</span><span style=\"color: #0000ff; text-decoration-color: #0000ff; text-decoration: underline\">https://www.gear4music.com/blog/best-party-songs/)</span>\n",
              "The best party songs <span style=\"color: #008080; text-decoration-color: #008080; font-weight: bold\">1</span>. <span style=\"color: #008000; text-decoration-color: #008000\">\"September\"</span> - Earth, Wind &amp; Fire <span style=\"font-weight: bold\">(</span><span style=\"color: #008080; text-decoration-color: #008080; font-weight: bold\">1978</span><span style=\"font-weight: bold\">)</span> Quite possibly the best party song. An infectious \n",
              "mix of funk and soul, <span style=\"color: #008000; text-decoration-color: #008000\">\"September\"</span> is celebrated for its upbeat melody and <span style=\"color: #008000; text-decoration-color: #008000\">\"ba-dee-ya\"</span> chorus, making it a timeless \n",
              "dance favorite.\n",
              "\n",
              "|<span style=\"color: #008080; text-decoration-color: #008080; font-weight: bold\">200</span> Classic House Party Songs Everyone Knows | The Best <span style=\"color: #808000; text-decoration-color: #808000\">...</span> - \n",
              "iSpyTunes<span style=\"font-weight: bold\">](</span><span style=\"color: #0000ff; text-decoration-color: #0000ff; text-decoration: underline\">https://www.ispytunes.com/post/house-party-songs)</span>\n",
              "\" Branded merchandise adds flair to any occasion, just like the perfect playlist. <span style=\"color: #008080; text-decoration-color: #008080; font-weight: bold\">200</span> classic house party songs \n",
              "everyone knows set the mood, bringing energy to every celebration. The best popular party hits keep guests dancing,\n",
              "creating unforgettable moments. From throwback anthems to modern beats, a great selection ensures nonstop fun.\n",
              "\n",
              "|<span style=\"color: #008080; text-decoration-color: #008080; font-weight: bold\">50</span> Songs on Every Event Planner's Playlist - \n",
              "Eventbrite<span style=\"font-weight: bold\">](</span><span style=\"color: #0000ff; text-decoration-color: #0000ff; text-decoration: underline\">https://www.eventbrite.com/blog/event-planning-playlist-ds00/)</span>\n",
              "Music sets the mood and provides the soundtrack <span style=\"font-weight: bold\">(</span>literally<span style=\"font-weight: bold\">)</span> for a memorable and exciting time. While the right \n",
              "songs can enhance the experience, the wrong event music can throw off the vibe. For example, fast-paced songs \n",
              "probably aren't the best fit for a formal gala. And smooth jazz is likely to lull your guests at a motivational \n",
              "conference.\n",
              "\n",
              "|Similar Songs Finder | Spotify Playlist Generator - Chosic<span style=\"font-weight: bold\">](</span><span style=\"color: #0000ff; text-decoration-color: #0000ff; text-decoration: underline\">https://www.chosic.com/playlist-generator/)</span>\n",
              "Need to find similar songs to a song you like? To music you love? A playlist created for you in seconds! With \n",
              "Spotify Playlist Generator online tool, create awesome playlists in seconds, featuring similar songs to those you \n",
              "love. Whether by songs, artists, genres, moods, or based on a playlist, just start with what you have in mind, and \n",
              "it will provide you with plenty of song recommendations <span style=\"color: #808000; text-decoration-color: #808000\">...</span>\n",
              "\n",
              "|The Top <span style=\"color: #008080; text-decoration-color: #008080; font-weight: bold\">100</span> Best Party Songs of All Time - \n",
              "LiveAbout<span style=\"font-weight: bold\">](</span><span style=\"color: #0000ff; text-decoration-color: #0000ff; text-decoration: underline\">https://www.liveabout.com/top-best-party-songs-of-all-time-3248355)</span>\n",
              "<span style=\"color: #008000; text-decoration-color: #008000\">\"Macarena\"</span> then spent <span style=\"color: #008080; text-decoration-color: #008080; font-weight: bold\">14</span> weeks at No. <span style=\"color: #008080; text-decoration-color: #008080; font-weight: bold\">1</span> on the U.S. pop singles chart. For more than a year this was one of the \n",
              "most popular special event songs in the United States. It still works well as a charming party song encouraging \n",
              "everyone to join in on the simple dance.\n",
              "\n",
              "|<span style=\"color: #008080; text-decoration-color: #008080; font-weight: bold\">70</span> Best Piano Bar Songs You Should Request<span style=\"font-weight: bold\">](</span><span style=\"color: #0000ff; text-decoration-color: #0000ff; text-decoration: underline\">https://www.pianoarea.com/best-piano-bar-songs/)</span>\n",
              "Best Piano Bar Songs You Should Request <span style=\"color: #008080; text-decoration-color: #008080; font-weight: bold\">1</span>. <span style=\"color: #008000; text-decoration-color: #008000\">\"Piano Man\"</span> by Billy Joel. One of the top recommendations for piano bar \n",
              "songs is <span style=\"color: #008000; text-decoration-color: #008000\">\"Piano Man\"</span> by Billy Joel.. This iconic track was released by Columbia Records in <span style=\"color: #008080; text-decoration-color: #008080; font-weight: bold\">1973</span>.. As part of the \n",
              "album titled <span style=\"color: #008000; text-decoration-color: #008000\">'Piano Man,'</span> it's one of Billy Joel's most recognizable works.. The song spins a captivating narrative\n",
              "and showcases Joe's compelling <span style=\"color: #808000; text-decoration-color: #808000\">...</span>\n",
              "\n",
              "|The top ten perfect house party tunes - Features - \n",
              "Mixmag<span style=\"font-weight: bold\">](</span><span style=\"color: #0000ff; text-decoration-color: #0000ff; text-decoration: underline\">https://mixmag.net/feature/the-top-ten-perfect-house-party-tunes)</span>\n",
              "Now, we've teamed up with Libratone to offer you the chance to win your very own house party, with a class DJ \n",
              "coming along to get behind the decks and soundtrack your night. We're also throwing in pizza and a cleaner for the \n",
              "day after. All you need to do is upload your best snaps to Instagram with the hashtag #lostinthebeat to be in with \n",
              "a shot.\n",
              "\n",
              "|Party Music Guide: Ultimate Tips for the Perfect \n",
              "Playlist<span style=\"font-weight: bold\">](</span><span style=\"color: #0000ff; text-decoration-color: #0000ff; text-decoration: underline\">https://thebackstage-deezer.com/music/perfect-party-music-playlist/)</span>\n",
              "Check out the best party playlists and top party songs to ensure your next party is packed! The most popular party \n",
              "songs are here, just hit play. <span style=\"color: #808000; text-decoration-color: #808000\">...</span> to decor. But, most of all, you need to have fantastic music. We recommend you \n",
              "get at least three hours' worth of party music queued and ready — that's about <span style=\"color: #008080; text-decoration-color: #008080; font-weight: bold\">75</span> songs. Lucky for you, we've <span style=\"color: #808000; text-decoration-color: #808000\">...</span>\n",
              "\n",
              "|<span style=\"color: #008080; text-decoration-color: #008080; font-weight: bold\">11</span> Songs About Castles, Kingdoms, Palaces &amp; Such | \n",
              "Playlist<span style=\"font-weight: bold\">](</span><span style=\"color: #0000ff; text-decoration-color: #0000ff; text-decoration: underline\">https://themusicalhype.com/11-songs-about-castles-kingdoms-palaces-playlist/)</span>\n",
              "<span style=\"color: #008080; text-decoration-color: #008080; font-weight: bold\">3</span>. Father John Misty, <span style=\"color: #008000; text-decoration-color: #008000\">\"The Palace\"</span> God's Favorite Customer • Sub Pop • <span style=\"color: #008080; text-decoration-color: #008080; font-weight: bold\">2018</span>. Father John Misty <span style=\"font-weight: bold\">(</span>Josh Tillman<span style=\"font-weight: bold\">)</span> gets \n",
              "real about mental health throughout the course of his <span style=\"color: #008080; text-decoration-color: #008080; font-weight: bold\">2018</span> LP, God's Favorite Customer.Among the most haunting \n",
              "songs from the album is the piano-driven <span style=\"color: #008000; text-decoration-color: #008000\">\"The Palace\"</span>.The incredible slow <span style=\"color: #008000; text-decoration-color: #008000\">\"The Palace,\"</span> as aforementioned, explores\n",
              "Tillman's mental health as well <span style=\"color: #808000; text-decoration-color: #808000\">...</span>\n",
              "\n",
              "|Best Songs for a Party - Deezer The Backstage<span style=\"font-weight: bold\">](</span><span style=\"color: #0000ff; text-decoration-color: #0000ff; text-decoration: underline\">https://thebackstage-deezer.com/tops/best-song-party/)</span>\n",
              "The best party songs to get people dancing at the end of the night always keep them on their toes. Genre-specific \n",
              "party songs Every party calls for a different atmosphere, and music plays an important part in creating it. Here \n",
              "are two of the most popular decades for unforgettable tunes.\n",
              "</pre>\n"
            ]
          },
          "metadata": {}
        },
        {
          "output_type": "display_data",
          "data": {
            "text/plain": [
              "\u001b[2m[Step 0: Duration 2.98 seconds| Input tokens: 1,174 | Output tokens: 28]\u001b[0m\n"
            ],
            "text/html": [
              "<pre style=\"white-space:pre;overflow-x:auto;line-height:normal;font-family:Menlo,'DejaVu Sans Mono',consolas,'Courier New',monospace\"><span style=\"color: #7f7f7f; text-decoration-color: #7f7f7f\">[Step 0: Duration 2.98 seconds| Input tokens: 1,174 | Output tokens: 28]</span>\n",
              "</pre>\n"
            ]
          },
          "metadata": {}
        },
        {
          "output_type": "display_data",
          "data": {
            "text/plain": [
              "\u001b[38;2;212;183;2m━━━━━━━━━━━━━━━━━━━━━━━━━━━━━━━━━━━━━━━━━━━━━━━━━━━━━ \u001b[0m\u001b[1mStep \u001b[0m\u001b[1;36m2\u001b[0m\u001b[38;2;212;183;2m ━━━━━━━━━━━━━━━━━━━━━━━━━━━━━━━━━━━━━━━━━━━━━━━━━━━━━━\u001b[0m\n"
            ],
            "text/html": [
              "<pre style=\"white-space:pre;overflow-x:auto;line-height:normal;font-family:Menlo,'DejaVu Sans Mono',consolas,'Courier New',monospace\"><span style=\"color: #d4b702; text-decoration-color: #d4b702\">━━━━━━━━━━━━━━━━━━━━━━━━━━━━━━━━━━━━━━━━━━━━━━━━━━━━━ </span><span style=\"font-weight: bold\">Step </span><span style=\"color: #008080; text-decoration-color: #008080; font-weight: bold\">2</span><span style=\"color: #d4b702; text-decoration-color: #d4b702\"> ━━━━━━━━━━━━━━━━━━━━━━━━━━━━━━━━━━━━━━━━━━━━━━━━━━━━━━</span>\n",
              "</pre>\n"
            ]
          },
          "metadata": {}
        },
        {
          "output_type": "display_data",
          "data": {
            "text/plain": [
              "╭─────────────────────────────────────────────────────────────────────────────────────────────────────────────────╮\n",
              "│ Calling tool: 'final_answer' with arguments: {'answer': 'For a party at Wayne\\'s mansion, focusing on classic   │\n",
              "│ party hits and modern dance tracks could be ideal. Here are some recommendations from the search results:\"]1.   │\n",
              "│ **\"September\"** - Earth, Wind & Fire (1978)\"]2. **\"Macarena\"** (This song has been popular at events and        │\n",
              "│ parties for years.)\"]3. **\"Happy**\" - Pharrell Williams (Uplifting and guaranteed to get everyone dancing.)\"]4. │\n",
              "│ **\"Can\\'t Stop The Feeling!\"** - Justin Timberlake (Great for adding energy to the party.)\"]5. **\"Get Lucky\"**  │\n",
              "│ - Daft Punk ft. Pharrell Williams & Nile Rodgers (A modern classic for any good party.)\"]6. **\"Uptown Funk\"** - │\n",
              "│ Mark Ronson ft. Bruno Mars (Another hit that will have everyone on the floor.)\"]7. **\"Sorry**\" - Justin Bieber  │\n",
              "│ (Contemporary pop hit with a strong beat.)\"]8. **\"Stronger**\" - Kanye West (Energetic and powerful, this track  │\n",
              "│ is sure to keep the party going.)\"]9. **\"Billie Jean\"** - Michael Jackson (Unstoppable classic that has         │\n",
              "│ everyone dancing.)\"]10. **\"I Want to Dance with Somebody (Who Loves Me)**\" - Whitney Houston (A timeless song   │\n",
              "│ that encourages people to come together on the dance floor.)\"]\"]Additionally, playing some house music classics │\n",
              "│ would be fitting for a mansion party:\"]11. **\"Pump Up the Volume\"** by M/A/R/R/S (Iconic house song that can    │\n",
              "│ set the perfect mood.)\"]12. **\"Strobe**\" by Ric O Case & Kleber Kleber (Another classic house hit.)\"]\"]These    │\n",
              "│ tracks should provide a mix of old and new, keeping energy high throughout the party at Wayne\\'s mansion.'}     │\n",
              "╰─────────────────────────────────────────────────────────────────────────────────────────────────────────────────╯\n"
            ],
            "text/html": [
              "<pre style=\"white-space:pre;overflow-x:auto;line-height:normal;font-family:Menlo,'DejaVu Sans Mono',consolas,'Courier New',monospace\">╭─────────────────────────────────────────────────────────────────────────────────────────────────────────────────╮\n",
              "│ Calling tool: 'final_answer' with arguments: {'answer': 'For a party at Wayne\\'s mansion, focusing on classic   │\n",
              "│ party hits and modern dance tracks could be ideal. Here are some recommendations from the search results:\"]1.   │\n",
              "│ **\"September\"** - Earth, Wind &amp; Fire (1978)\"]2. **\"Macarena\"** (This song has been popular at events and        │\n",
              "│ parties for years.)\"]3. **\"Happy**\" - Pharrell Williams (Uplifting and guaranteed to get everyone dancing.)\"]4. │\n",
              "│ **\"Can\\'t Stop The Feeling!\"** - Justin Timberlake (Great for adding energy to the party.)\"]5. **\"Get Lucky\"**  │\n",
              "│ - Daft Punk ft. Pharrell Williams &amp; Nile Rodgers (A modern classic for any good party.)\"]6. **\"Uptown Funk\"** - │\n",
              "│ Mark Ronson ft. Bruno Mars (Another hit that will have everyone on the floor.)\"]7. **\"Sorry**\" - Justin Bieber  │\n",
              "│ (Contemporary pop hit with a strong beat.)\"]8. **\"Stronger**\" - Kanye West (Energetic and powerful, this track  │\n",
              "│ is sure to keep the party going.)\"]9. **\"Billie Jean\"** - Michael Jackson (Unstoppable classic that has         │\n",
              "│ everyone dancing.)\"]10. **\"I Want to Dance with Somebody (Who Loves Me)**\" - Whitney Houston (A timeless song   │\n",
              "│ that encourages people to come together on the dance floor.)\"]\"]Additionally, playing some house music classics │\n",
              "│ would be fitting for a mansion party:\"]11. **\"Pump Up the Volume\"** by M/A/R/R/S (Iconic house song that can    │\n",
              "│ set the perfect mood.)\"]12. **\"Strobe**\" by Ric O Case &amp; Kleber Kleber (Another classic house hit.)\"]\"]These    │\n",
              "│ tracks should provide a mix of old and new, keeping energy high throughout the party at Wayne\\'s mansion.'}     │\n",
              "╰─────────────────────────────────────────────────────────────────────────────────────────────────────────────────╯\n",
              "</pre>\n"
            ]
          },
          "metadata": {}
        },
        {
          "output_type": "display_data",
          "data": {
            "text/plain": [
              "\u001b[1;38;2;212;183;2mFinal answer: For a party at Wayne's mansion, focusing on classic party hits and modern dance tracks could be \u001b[0m\n",
              "\u001b[1;38;2;212;183;2mideal. Here are some recommendations from the search results:\"]1. **\"September\"** - Earth, Wind & Fire (1978)\"]2. \u001b[0m\n",
              "\u001b[1;38;2;212;183;2m**\"Macarena\"** (This song has been popular at events and parties for years.)\"]3. **\"Happy**\" - Pharrell Williams \u001b[0m\n",
              "\u001b[1;38;2;212;183;2m(Uplifting and guaranteed to get everyone dancing.)\"]4. **\"Can't Stop The Feeling!\"** - Justin Timberlake (Great \u001b[0m\n",
              "\u001b[1;38;2;212;183;2mfor adding energy to the party.)\"]5. **\"Get Lucky\"** - Daft Punk ft. Pharrell Williams & Nile Rodgers (A modern \u001b[0m\n",
              "\u001b[1;38;2;212;183;2mclassic for any good party.)\"]6. **\"Uptown Funk\"** - Mark Ronson ft. Bruno Mars (Another hit that will have \u001b[0m\n",
              "\u001b[1;38;2;212;183;2meveryone on the floor.)\"]7. **\"Sorry**\" - Justin Bieber (Contemporary pop hit with a strong beat.)\"]8. \u001b[0m\n",
              "\u001b[1;38;2;212;183;2m**\"Stronger**\" - Kanye West (Energetic and powerful, this track is sure to keep the party going.)\"]9. **\"Billie \u001b[0m\n",
              "\u001b[1;38;2;212;183;2mJean\"** - Michael Jackson (Unstoppable classic that has everyone dancing.)\"]10. **\"I Want to Dance with Somebody \u001b[0m\n",
              "\u001b[1;38;2;212;183;2m(Who Loves Me)**\" - Whitney Houston (A timeless song that encourages people to come together on the dance \u001b[0m\n",
              "\u001b[1;38;2;212;183;2mfloor.)\"]\"]Additionally, playing some house music classics would be fitting for a mansion party:\"]11. **\"Pump Up \u001b[0m\n",
              "\u001b[1;38;2;212;183;2mthe Volume\"** by M/A/R/R/S (Iconic house song that can set the perfect mood.)\"]12. **\"Strobe**\" by Ric O Case & \u001b[0m\n",
              "\u001b[1;38;2;212;183;2mKleber Kleber (Another classic house hit.)\"]\"]These tracks should provide a mix of old and new, keeping energy high\u001b[0m\n",
              "\u001b[1;38;2;212;183;2mthroughout the party at Wayne's mansion.\u001b[0m\n"
            ],
            "text/html": [
              "<pre style=\"white-space:pre;overflow-x:auto;line-height:normal;font-family:Menlo,'DejaVu Sans Mono',consolas,'Courier New',monospace\"><span style=\"color: #d4b702; text-decoration-color: #d4b702; font-weight: bold\">Final answer: For a party at Wayne's mansion, focusing on classic party hits and modern dance tracks could be </span>\n",
              "<span style=\"color: #d4b702; text-decoration-color: #d4b702; font-weight: bold\">ideal. Here are some recommendations from the search results:\"]1. **\"September\"** - Earth, Wind &amp; Fire (1978)\"]2. </span>\n",
              "<span style=\"color: #d4b702; text-decoration-color: #d4b702; font-weight: bold\">**\"Macarena\"** (This song has been popular at events and parties for years.)\"]3. **\"Happy**\" - Pharrell Williams </span>\n",
              "<span style=\"color: #d4b702; text-decoration-color: #d4b702; font-weight: bold\">(Uplifting and guaranteed to get everyone dancing.)\"]4. **\"Can't Stop The Feeling!\"** - Justin Timberlake (Great </span>\n",
              "<span style=\"color: #d4b702; text-decoration-color: #d4b702; font-weight: bold\">for adding energy to the party.)\"]5. **\"Get Lucky\"** - Daft Punk ft. Pharrell Williams &amp; Nile Rodgers (A modern </span>\n",
              "<span style=\"color: #d4b702; text-decoration-color: #d4b702; font-weight: bold\">classic for any good party.)\"]6. **\"Uptown Funk\"** - Mark Ronson ft. Bruno Mars (Another hit that will have </span>\n",
              "<span style=\"color: #d4b702; text-decoration-color: #d4b702; font-weight: bold\">everyone on the floor.)\"]7. **\"Sorry**\" - Justin Bieber (Contemporary pop hit with a strong beat.)\"]8. </span>\n",
              "<span style=\"color: #d4b702; text-decoration-color: #d4b702; font-weight: bold\">**\"Stronger**\" - Kanye West (Energetic and powerful, this track is sure to keep the party going.)\"]9. **\"Billie </span>\n",
              "<span style=\"color: #d4b702; text-decoration-color: #d4b702; font-weight: bold\">Jean\"** - Michael Jackson (Unstoppable classic that has everyone dancing.)\"]10. **\"I Want to Dance with Somebody </span>\n",
              "<span style=\"color: #d4b702; text-decoration-color: #d4b702; font-weight: bold\">(Who Loves Me)**\" - Whitney Houston (A timeless song that encourages people to come together on the dance </span>\n",
              "<span style=\"color: #d4b702; text-decoration-color: #d4b702; font-weight: bold\">floor.)\"]\"]Additionally, playing some house music classics would be fitting for a mansion party:\"]11. **\"Pump Up </span>\n",
              "<span style=\"color: #d4b702; text-decoration-color: #d4b702; font-weight: bold\">the Volume\"** by M/A/R/R/S (Iconic house song that can set the perfect mood.)\"]12. **\"Strobe**\" by Ric O Case &amp; </span>\n",
              "<span style=\"color: #d4b702; text-decoration-color: #d4b702; font-weight: bold\">Kleber Kleber (Another classic house hit.)\"]\"]These tracks should provide a mix of old and new, keeping energy high</span>\n",
              "<span style=\"color: #d4b702; text-decoration-color: #d4b702; font-weight: bold\">throughout the party at Wayne's mansion.</span>\n",
              "</pre>\n"
            ]
          },
          "metadata": {}
        },
        {
          "output_type": "display_data",
          "data": {
            "text/plain": [
              "\u001b[2m[Step 1: Duration 21.81 seconds| Input tokens: 3,480 | Output tokens: 433]\u001b[0m\n"
            ],
            "text/html": [
              "<pre style=\"white-space:pre;overflow-x:auto;line-height:normal;font-family:Menlo,'DejaVu Sans Mono',consolas,'Courier New',monospace\"><span style=\"color: #7f7f7f; text-decoration-color: #7f7f7f\">[Step 1: Duration 21.81 seconds| Input tokens: 3,480 | Output tokens: 433]</span>\n",
              "</pre>\n"
            ]
          },
          "metadata": {}
        },
        {
          "output_type": "execute_result",
          "data": {
            "text/plain": [
              "'For a party at Wayne\\'s mansion, focusing on classic party hits and modern dance tracks could be ideal. Here are some recommendations from the search results:\"]1. **\"September\"** - Earth, Wind & Fire (1978)\"]2. **\"Macarena\"** (This song has been popular at events and parties for years.)\"]3. **\"Happy**\" - Pharrell Williams (Uplifting and guaranteed to get everyone dancing.)\"]4. **\"Can\\'t Stop The Feeling!\"** - Justin Timberlake (Great for adding energy to the party.)\"]5. **\"Get Lucky\"** - Daft Punk ft. Pharrell Williams & Nile Rodgers (A modern classic for any good party.)\"]6. **\"Uptown Funk\"** - Mark Ronson ft. Bruno Mars (Another hit that will have everyone on the floor.)\"]7. **\"Sorry**\" - Justin Bieber (Contemporary pop hit with a strong beat.)\"]8. **\"Stronger**\" - Kanye West (Energetic and powerful, this track is sure to keep the party going.)\"]9. **\"Billie Jean\"** - Michael Jackson (Unstoppable classic that has everyone dancing.)\"]10. **\"I Want to Dance with Somebody (Who Loves Me)**\" - Whitney Houston (A timeless song that encourages people to come together on the dance floor.)\"]\"]Additionally, playing some house music classics would be fitting for a mansion party:\"]11. **\"Pump Up the Volume\"** by M/A/R/R/S (Iconic house song that can set the perfect mood.)\"]12. **\"Strobe**\" by Ric O Case & Kleber Kleber (Another classic house hit.)\"]\"]These tracks should provide a mix of old and new, keeping energy high throughout the party at Wayne\\'s mansion.'"
            ],
            "application/vnd.google.colaboratory.intrinsic+json": {
              "type": "string"
            }
          },
          "metadata": {},
          "execution_count": 3
        }
      ]
    }
  ]
}